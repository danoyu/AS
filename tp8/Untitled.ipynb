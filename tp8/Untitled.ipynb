{
 "cells": [
  {
   "cell_type": "code",
   "execution_count": 1,
   "metadata": {},
   "outputs": [],
   "source": [
    "import torch\n",
    "import torch.utils.data\n",
    "import torch.nn as nn\n",
    "import torch.nn.functional as F\n",
    "from torch.autograd import Variable\n",
    "import matplotlib.pyplot as plt\n",
    "import numpy as np\n",
    "from torch.distributions import Normal\n",
    "import sys"
   ]
  },
  {
   "cell_type": "code",
   "execution_count": 2,
   "metadata": {},
   "outputs": [
    {
     "data": {
      "image/png": "[encoded data removed]",
      "text/plain": [
       "<matplotlib.figure.Figure at 0x7fd319f4fbe0>"
      ]
     },
     "metadata": {},
     "output_type": "display_data"
    }
   ],
   "source": [
    "def generateXor_dataset(nb_sample):\n",
    "    n1 = Normal(torch.Tensor([-1, -1]), torch.Tensor([0.5, 0.5]))\n",
    "    n2 = Normal(torch.Tensor([1, 1]), torch.Tensor([0.5, 0.5]))\n",
    "    n3 = Normal(torch.Tensor([-1, 1]), torch.Tensor([0.5, 0.5]))\n",
    "    n4 = Normal(torch.Tensor([1, -1]), torch.Tensor([0.5, 0.5]))\n",
    "    data = []\n",
    "    labels = []\n",
    "    for i in range(nb_sample):\n",
    "        data.append(torch.FloatTensor(n1.sample().tolist()).view(-1,2))\n",
    "        data.append(torch.FloatTensor(n2.sample().tolist()).view(-1,2))\n",
    "        data.append(torch.FloatTensor(n3.sample().tolist()).view(-1,2))\n",
    "        data.append(torch.FloatTensor(n4.sample().tolist()).view(-1,2))\n",
    "        labels.extend([torch.LongTensor([1]).view(-1,1),torch.LongTensor([1]).view(-1,1),torch.LongTensor([-1]).view(-1,1),torch.LongTensor([-1]).view(-1,1)])# 1, -1, -1])\n",
    "    return data, torch.stack(labels).squeeze()\n",
    "\n",
    "data = generateXor_dataset(100)\n",
    "\n",
    "\n",
    "def plot_data(data, labels):\n",
    "    pos = np.where(labels==1)[0]\n",
    "    neg = np.where(labels==-1)[0]\n",
    "    data = torch.stack(data).squeeze()\n",
    "    data = np.array(data)\n",
    "    plt.plot(data[pos, 0], data[pos, 1], 'ro')\n",
    "    plt.plot(data[neg, 0], data[neg, 1], 'b*')\n",
    "    \n",
    "plot_data(data[0],data[1])"
   ]
  },
  {
   "cell_type": "code",
   "execution_count": 47,
   "metadata": {},
   "outputs": [
    {
     "name": "stdout",
     "output_type": "stream",
     "text": [
      "\n",
      " 0.5000\n",
      " 0.5000\n",
      "[torch.FloatTensor of size 2]\n",
      "\n"
     ]
    },
    {
     "data": {
      "text/plain": [
       "[<matplotlib.lines.Line2D at 0x7fd27acbc780>]"
      ]
     },
     "execution_count": 47,
     "metadata": {},
     "output_type": "execute_result"
    },
    {
     "data": {
      "image/png": "[encoded data removed]",
      "text/plain": [
       "<matplotlib.figure.Figure at 0x7fd27ab86710>"
      ]
     },
     "metadata": {},
     "output_type": "display_data"
    }
   ],
   "source": [
    "class DSNN(nn.Module):\n",
    "    def __init__(self,input_size, output_size):\n",
    "        super(DSNN,self).__init__()\n",
    "        self.f1 = nn.Linear(input_size,output_size).cuda()\n",
    "        self.f2 = nn.Linear(input_size,output_size).cuda()\n",
    "        self.sigmoid = nn.Sigmoid().cuda()\n",
    "        \n",
    "    def forward(self,x,h):\n",
    "        return h*self.sigmoid(self.f1(x)) + (1-h)*self.sigmoid(self.f2(x))\n",
    "\n",
    "    \n",
    "data = generateXor_dataset(100)\n",
    "data_tensor = torch.cat(data[0])\n",
    "label_tensor = torch.LongTensor(data[1])\n",
    "trainset= torch.utils.data.TensorDataset(data_tensor,label_tensor)\n",
    "trainloader = torch.utils.data.DataLoader(trainset,batch_size=10,shuffle=True)\n",
    "Dsnn = DSNN(data_tensor.size()[1],1)\n",
    "\n",
    "criterion = nn.MSELoss().cuda()\n",
    "optimizer = torch.optim.SGD(Dsnn.parameters(),lr=0.01)\n",
    "nb_epoch = 500\n",
    "g = torch.FloatTensor([0.5,0.5])\n",
    "print(g)\n",
    "global_loss = []\n",
    "for j in range(nb_epoch):\n",
    "    running_loss = 0\n",
    "    for i,data in enumerate(trainloader,0):\n",
    "        log_p = g\n",
    "        inputs, labels = data\n",
    "        labels = labels.type(torch.FloatTensor)\n",
    "        x = Variable(inputs).cuda()\n",
    "        y = Variable(labels).cuda()\n",
    "        # grad a zero\n",
    "        optimizer.zero_grad()\n",
    "        out = Dsnn(x,1)\n",
    "        loss = criterion(out,y) \n",
    "        loss.backward()\n",
    "        optimizer.step()\n",
    "        running_loss += loss.data[0]\n",
    "    global_loss.append(running_loss)\n",
    "\n",
    "plt.plot(range(len(global_loss)), global_loss)"
   ]
  },
  {
   "cell_type": "code",
   "execution_count": null,
   "metadata": {},
   "outputs": [],
   "source": []
  }
 ],
 "metadata": {
  "kernelspec": {
   "display_name": "Python 3",
   "language": "python",
   "name": "python3"
  },
  "language_info": {
   "codemirror_mode": {
    "name": "ipython",
    "version": 3
   },
   "file_extension": ".py",
   "mimetype": "text/x-python",
   "name": "python",
   "nbconvert_exporter": "python",
   "pygments_lexer": "ipython3",
   "version": "3.5.3"
  }
 },
 "nbformat": 4,
 "nbformat_minor": 2
}
