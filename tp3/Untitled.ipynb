{
 "cells": [
  {
   "cell_type": "code",
   "execution_count": 31,
   "metadata": {
    "collapsed": false
   },
   "outputs": [
    {
     "name": "stdout",
     "output_type": "stream",
     "text": [
      "torch.Size([10000, 28, 28])\n"
     ]
    }
   ],
   "source": [
    "import torch\n",
    "from torchvision import datasets, transforms\n",
    "\n",
    "## une fois le dataset telecharge, mettre download=False !\n",
    "## Pour le test, train = False\n",
    "## transform permet de faire un preprocessing des donnees (ici ?)\n",
    "train_loader = torch.utils.data.DataLoader(datasets.MNIST('../data', train=True, download=False, transform=transforms.Compose([transforms.ToTensor(), transforms.Normalize((0.1307,),(0.3081,))])), batch_size=64, shuffle=True) \n",
    "test_loader = torch.utils.data.DataLoader(datasets.MNIST('../data', train=False, download=False, transform=transforms.Compose([transforms.ToTensor(), transforms.Normalize((0.1307,),(0.3081,))])), batch_size=64, shuffle=True) \n",
    "\n",
    "#print(train_loader.dataset.train_data.size()) \n",
    "#for i,(data,target) in enumerate(train_loader): \n",
    "     #print(i,data.size(),data.type(),target.size(),target.type())\n",
    "     # do something...\n",
    "    \n",
    "#print(train_loader.dataset.train_data[0]) #donne les paquets de train \n",
    "print(test_loader.dataset.test_data.size())\n",
    "\n",
    "\n"
   ]
  },
  {
   "cell_type": "code",
   "execution_count": 36,
   "metadata": {
    "collapsed": false
   },
   "outputs": [],
   "source": [
    "from torch.autograd import Function\n",
    "\n",
    "class Flinear(Function):\n",
    "    \n",
    "    def forward(self,x,theta):\n",
    "        self.x = x\n",
    "        self.theta = theta\n",
    "        return torch.mm(x,theta)\n",
    "\n",
    "    def backard(self,delta):\n",
    "        grad_theta = torch.mm(delta,x)\n",
    "        for i in range(0,self.X):\n",
    "            for j in range(0,self.Y):\n",
    "                self.grad[i][j] += delta[j]*x[i]\n",
    "    \n",
    "        grad_x = torch.mm(delta,theta)\n",
    "        return grad_x\n",
    "        pass\n",
    "    \n",
    "    \n",
    "class FTanh(Function):\n",
    "    def forward(self,x):\n",
    "         return torch.tanh(x)\n",
    "        \n",
    "    def backard(self,delta):\n",
    "        return torch.mm(delta, (1.0-torch.tanh(x)**2).t())\n",
    "    \n",
    "class FMSE(Function):\n",
    "    def forward(self,y_,y):\n",
    "        pass\n",
    "    def backard(self,delta):\n",
    "        pass\n",
    "    \n",
    "    "
   ]
  },
  {
   "cell_type": "code",
   "execution_count": null,
   "metadata": {
    "collapsed": true
   },
   "outputs": [],
   "source": [
    "theta = torch.randn(n,C).uniform(-0.01,0.01)\n",
    "linear = Flinear()\n",
    "tanh = FTanh()\n",
    "loss = FMSE()"
   ]
  }
 ],
 "metadata": {
  "kernelspec": {
   "display_name": "Python 2",
   "language": "python",
   "name": "python2"
  },
  "language_info": {
   "codemirror_mode": {
    "name": "ipython",
    "version": 2
   },
   "file_extension": ".py",
   "mimetype": "text/x-python",
   "name": "python",
   "nbconvert_exporter": "python",
   "pygments_lexer": "ipython2",
   "version": "2.7.9"
  }
 },
 "nbformat": 4,
 "nbformat_minor": 0
}
