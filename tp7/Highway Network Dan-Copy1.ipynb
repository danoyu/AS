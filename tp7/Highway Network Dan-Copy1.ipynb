{
 "cells": [
  {
   "cell_type": "markdown",
   "metadata": {},
   "source": [
    "Mon modèle ne marche pas et j'ai cherché pendant très longtemps à comprendre pourquoi, car il correspond bien au modèle décrit dans l'article. Je me suis rendu compte assez tard que la commande \"optimiser.step()\" ne mettait pas à jour les paramètres de toutes mes couches, seulement ceux de la première. Cependant je ne comprends pas ce comportement, selon la doc il est censé mettre à jour tous les paramètres de toutes les couches ...\n",
    "Avec mon modéle j'obtiens des résultats satisfaisants pour le loss. Concernant l'accuracy, elle est très mauvaise.\n",
    "\n",
    "Si vous avez une idée de pourquoi la commande 'optimiser.step()\" ne fait pas ce que je souhaite, je suis tout ouie."
   ]
  },
  {
   "cell_type": "code",
   "execution_count": 12,
   "metadata": {},
   "outputs": [],
   "source": [
    "import torch\n",
    "import torch.nn as nn\n",
    "import torch.nn.functional as F\n",
    "from torch.autograd import Variable\n",
    "from torchvision import datasets, transforms as transforms \n",
    "import matplotlib.pyplot as plt\n",
    "import numpy as np\n",
    "\n",
    "\n",
    "class Modele(nn.Module):\n",
    "    def __init__(self,input_size, output_size, nb_layers):\n",
    "        super(Modele,self).__init__()\n",
    "        self.nb_layers = nb_layers\n",
    "        #First linear transformation 784 -> 10\n",
    "        self.first_linear = nn.Linear(input_size,output_size, bias=False)\n",
    "        \n",
    "        #Linear layers H(x,W_h)\n",
    "        self.linear = [nn.Linear(output_size, output_size, bias= -3) for i in range(nb_layers -1)]\n",
    "        \n",
    "        #Linear layers for the gate W(x,W_h)\n",
    "        self.linear_gate = [nn.Linear(output_size, output_size, bias= -3) for i in range(nb_layers -1)]\n",
    "        \n",
    "        \n",
    "    def forward(self,x):\n",
    "        y = self.first_linear(x)\n",
    "        \n",
    "        for layer in range(self.nb_layers -1 ):\n",
    "            \n",
    "            T_x = F.sigmoid(self.linear_gate[layer](y))\n",
    "            \n",
    "            e = torch.mul(self.linear[layer](y),T_x.t())\n",
    "            e2 = torch.mul(y,(1- T_x))\n",
    "            y = torch.add(e,e2) \n",
    "            \n",
    "        #softmax = nn.Softmax()\n",
    "#         return softmax(y)\n",
    "        return y\n",
    "    \n",
    "    #calcul l'accuracy\n",
    "    def score(self,test_loader):\n",
    "        score = 0\n",
    "        for i,(data,target) in enumerate(test_loader):\n",
    "            if i == len(test_loader) -1 :\n",
    "                break\n",
    "            data.resize_(batch_size,784)\n",
    "            x = Variable(data)\n",
    "            out = m.forward(x)\n",
    "            maxs , indice = torch.max(out,1)\n",
    "            \n",
    "            for k,f in enumerate(target):\n",
    "                if f == int(indice[k].data[0]):\n",
    "                    score += 1\n",
    "        return score/(float(batch_size)*len(test_loader))\n",
    "    \n",
    "        \n",
    "def train(train_loader, nb_epoch,m):\n",
    "        y_onehot = torch.FloatTensor(batch_size, nb_digits) \n",
    "        error_epoch = []\n",
    "        l = nn.MSELoss()\n",
    "        optimisier = torch.optim.SGD([ { 'params' : m.parameters(),'lr' : 0.0002 }], momentum=0.1)\n",
    "        for j in range(nb_epoch):\n",
    "            error = []\n",
    "            for i,(data,target) in enumerate(train_loader):\n",
    "                # grad a zero\n",
    "                optimisier.zero_grad()\n",
    "                \n",
    "                if (target.size()[0] != batch_size):\n",
    "                    break \n",
    "                data.resize_(batch_size,784)\n",
    "                x = Variable(data)\n",
    "                \n",
    "                y_onehot.zero_()\n",
    "                y_onehot.scatter_(1, target.view(-1,1), 1)\n",
    "                y = Variable(y_onehot)\n",
    "\n",
    "                out = m.forward(x)\n",
    "                maxs,indice = torch.max(out,1)\n",
    "                err = l(out,y)\n",
    "                \n",
    "                err.backward()\n",
    "                 \n",
    "                #maj de la premiere couche seulement !?\n",
    "                # Je ne comprend pas pourquoi \n",
    "                optimisier.step()\n",
    "\n",
    "                error.append(err.data[0])\n",
    "            error_epoch.append(np.mean(error))\n",
    "        return error_epoch"
   ]
  },
  {
   "cell_type": "markdown",
   "metadata": {},
   "source": [
    "# Avec 4 couches"
   ]
  },
  {
   "cell_type": "code",
   "execution_count": 13,
   "metadata": {},
   "outputs": [
    {
     "data": {
      "image/png": "[encoded data removed]",
      "text/plain": [
       "<matplotlib.figure.Figure at 0x7fd4b050a5d0>"
      ]
     },
     "metadata": {},
     "output_type": "display_data"
    },
    {
     "data": {
      "text/plain": [
       "0.3496218152866242"
      ]
     },
     "execution_count": 13,
     "metadata": {},
     "output_type": "execute_result"
    }
   ],
   "source": [
    "nb_digits=10\n",
    "nb_epoch = 10\n",
    "batch_size=64\n",
    "\n",
    "train_loader= torch.utils.data.DataLoader(datasets.MNIST('../data', train=True, download=False, transform=transforms.Compose([transforms.ToTensor(), transforms.Normalize((0.1307,),(0.3081,))])), batch_size=batch_size, shuffle=True) \n",
    "test_loader = torch.utils.data.DataLoader(datasets.MNIST('../data', train=False, download=False, transform=transforms.Compose([transforms.ToTensor(), transforms.Normalize((0.1307,),(0.3081,))])), batch_size=batch_size, shuffle=True) \n",
    "\n",
    "m = Modele(784,10,4)\n",
    "e = train(train_loader,nb_epoch,m)\n",
    "plt.plot(range(nb_epoch),e)\n",
    "plt.show()\n",
    "m.score(test_loader)"
   ]
  },
  {
   "cell_type": "markdown",
   "metadata": {},
   "source": [
    "# Avec 2 couches"
   ]
  },
  {
   "cell_type": "code",
   "execution_count": 67,
   "metadata": {},
   "outputs": [
    {
     "data": {
      "image/png": "[encoded data removed]",
      "text/plain": [
       "<matplotlib.figure.Figure at 0x7f2a1e7e85d0>"
      ]
     },
     "metadata": {},
     "output_type": "display_data"
    },
    {
     "data": {
      "text/plain": [
       "0.6872014331210191"
      ]
     },
     "execution_count": 67,
     "metadata": {},
     "output_type": "execute_result"
    }
   ],
   "source": [
    "nb_digits=10\n",
    "nb_epoch = 10\n",
    "batch_size=64\n",
    "\n",
    "train_loader= torch.utils.data.DataLoader(datasets.MNIST('../data', train=True, download=False, transform=transforms.Compose([transforms.ToTensor(), transforms.Normalize((0.1307,),(0.3081,))])), batch_size=batch_size, shuffle=True) \n",
    "test_loader = torch.utils.data.DataLoader(datasets.MNIST('../data', train=False, download=False, transform=transforms.Compose([transforms.ToTensor(), transforms.Normalize((0.1307,),(0.3081,))])), batch_size=batch_size, shuffle=True) \n",
    "\n",
    "m = Modele(784,10,2)\n",
    "e = m.train(train_loader,nb_epoch)\n",
    "plt.plot(range(nb_epoch),e)\n",
    "plt.show()\n",
    "m.score(test_loader)"
   ]
  },
  {
   "cell_type": "markdown",
   "metadata": {},
   "source": [
    "# Avec 12 couches "
   ]
  },
  {
   "cell_type": "code",
   "execution_count": 14,
   "metadata": {},
   "outputs": [
    {
     "data": {
      "image/png": "[encoded data removed]",
      "text/plain": [
       "<matplotlib.figure.Figure at 0x7fd4b025abd0>"
      ]
     },
     "metadata": {},
     "output_type": "display_data"
    },
    {
     "data": {
      "text/plain": [
       "0.09683519108280254"
      ]
     },
     "execution_count": 14,
     "metadata": {},
     "output_type": "execute_result"
    }
   ],
   "source": [
    "nb_digits=10\n",
    "nb_epoch = 10\n",
    "batch_size=64\n",
    "\n",
    "train_loader= torch.utils.data.DataLoader(datasets.MNIST('../data', train=True, download=False, transform=transforms.Compose([transforms.ToTensor(), transforms.Normalize((0.1307,),(0.3081,))])), batch_size=batch_size, shuffle=True) \n",
    "test_loader = torch.utils.data.DataLoader(datasets.MNIST('../data', train=False, download=False, transform=transforms.Compose([transforms.ToTensor(), transforms.Normalize((0.1307,),(0.3081,))])), batch_size=batch_size, shuffle=True) \n",
    "\n",
    "m = Modele(784,10,12)\n",
    "e = train(train_loader,nb_epoch,m)\n",
    "plt.plot(range(nb_epoch),e)\n",
    "plt.show()\n",
    "m.score(test_loader)"
   ]
  }
 ],
 "metadata": {
  "kernelspec": {
   "display_name": "Python 2",
   "language": "python",
   "name": "python2"
  },
  "language_info": {
   "codemirror_mode": {
    "name": "ipython",
    "version": 2
   },
   "file_extension": ".py",
   "mimetype": "text/x-python",
   "name": "python",
   "nbconvert_exporter": "python",
   "pygments_lexer": "ipython2",
   "version": "2.7.12"
  }
 },
 "nbformat": 4,
 "nbformat_minor": 1
}
