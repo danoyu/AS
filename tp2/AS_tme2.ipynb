{
 "cells": [
  {
   "cell_type": "markdown",
   "metadata": {},
   "source": [
    "# Apprentissage statistique : Implémentation d'un réseau de neurones"
   ]
  },
  {
   "cell_type": "code",
   "execution_count": 1,
   "metadata": {
    "collapsed": true
   },
   "outputs": [],
   "source": [
    "import numpy as np\n",
    "import matplotlib.pyplot as plt\n",
    "%matplotlib inline"
   ]
  },
  {
   "cell_type": "markdown",
   "metadata": {},
   "source": [
    "Afin d'implémenter un réseau de neurones, on se dote de modules qui constituent des couches de notre réseau."
   ]
  },
  {
   "cell_type": "markdown",
   "metadata": {},
   "source": [
    "## Module linéaire"
   ]
  },
  {
   "cell_type": "code",
   "execution_count": 54,
   "metadata": {
    "collapsed": true
   },
   "outputs": [],
   "source": [
    "class LinearModule(object):\n",
    "    \"\"\"\n",
    "    Classe permettant d'implémenter un module linéaire effectuant un produit scalaire theta*x\n",
    "    \"\"\"\n",
    "    def __init__(self, input_dim, output_dim, eps = 0.001):\n",
    "        #self.input_dim = input_dim\n",
    "        #self.output_dim = output_dim\n",
    "        self.eps = eps\n",
    "        self.theta = np.random.uniform(-1.0, 1.0, (input_dim, output_dim))\n",
    "        self.gradient = np.zeros((input_dim, output_dim))\n",
    "    \n",
    "    def forward(self, x):\n",
    "        \"\"\"\n",
    "        Retourne le produit scalaire theta * x\n",
    "        \"\"\"\n",
    "        return np.dot(x, self.theta)\n",
    "    \n",
    "    def backward(self, x, delta):\n",
    "        \"\"\"\n",
    "        Calcul du gradient en fonction des paramètres puis ajout au gradient du module.\n",
    "        Retourne le gradient en fonction de l'entrée x\n",
    "        \"\"\"\n",
    "        self.gradient += np.dot(delta, x).T\n",
    "        #print(\"Gradient\")\n",
    "        #print(self.gradient)\n",
    "        return self.theta.dot(delta)   \n",
    "    \n",
    "    def zero_gradient(self):\n",
    "        \"\"\"\n",
    "        Remise à zéro du gradient stocké en mémoire\n",
    "        \"\"\"\n",
    "        self.gradient.fill(0)\n",
    "        \n",
    "    def update_params(self):\n",
    "        \"\"\"\n",
    "        Mise à jour des paramètres theta\n",
    "        \"\"\"\n",
    "        self.theta -= self.eps * self.gradient\n",
    "        \n",
    "        #print(\"Theta\")\n",
    "        #print(self.theta)"
   ]
  },
  {
   "cell_type": "markdown",
   "metadata": {},
   "source": [
    "## Fonction de coût"
   ]
  },
  {
   "cell_type": "code",
   "execution_count": 48,
   "metadata": {
    "collapsed": true
   },
   "outputs": [],
   "source": [
    "class MSE(object):\n",
    "    \n",
    "    def forward(self, ypred, y):\n",
    "        return np.mean(0.5 * (ypred - y.reshape(ypred.shape))**2)\n",
    "    \n",
    "    def backward(self, ypred, y):\n",
    "        return np.mean((ypred - y.reshape(ypred.shape)))"
   ]
  },
  {
   "cell_type": "markdown",
   "metadata": {},
   "source": [
    "## Fonction d'activation"
   ]
  },
  {
   "cell_type": "code",
   "execution_count": 86,
   "metadata": {
    "collapsed": true
   },
   "outputs": [],
   "source": [
    "class Tanh(object):\n",
    "    \n",
    "    def forward(self, x):\n",
    "        return np.tanh(x)\n",
    "    \n",
    "    def backward(self, x, delta):\n",
    "        self.grad = np.dot(delta,(1.0 - np.tanh(x)**2)).T\n",
    "        return self.grad\n",
    "        \n",
    "    def updateParams(self, delta):\n",
    "        return\n",
    "\n",
    "    def zero_gradient(self):\n",
    "        return"
   ]
  },
  {
   "cell_type": "markdown",
   "metadata": {},
   "source": [
    "## Container"
   ]
  },
  {
   "cell_type": "markdown",
   "metadata": {},
   "source": [
    "Afin de faciliter l'utilisation de réseaux de neurones, on se dote d'un container Net permettant de faciliter la manipulation d'ensemble de modules."
   ]
  },
  {
   "cell_type": "code",
   "execution_count": 15,
   "metadata": {
    "collapsed": true
   },
   "outputs": [],
   "source": [
    "class Net(object):\n",
    "    \n",
    "    def __init__(self, layers =[]):\n",
    "        self.layers = layers\n",
    "    \n",
    "    def addLayer(self, layer):\n",
    "        self.layers.add(layer)\n",
    "        \n",
    "    def forward(self, x):\n",
    "        pred = x\n",
    "        for i in self.layers:\n",
    "            pred = i.forward(pred)\n",
    "        return pred\n",
    "    \n",
    "    def backward(self, x, grad_loss):\n",
    "        raise NotImplementedError()\n",
    "            \n",
    "        \n",
    "    def zero_gradient(self):\n",
    "        [layer.zero_gradient() for layer in self.layers]\n",
    "    \n",
    "    def predict(self, x):\n",
    "        return np.sign(self.forward(x))\n",
    "    \n",
    "    def score(self, x, y):\n",
    "        return (self.predict(x).reshape(-1) == y).mean()"
   ]
  },
  {
   "cell_type": "markdown",
   "metadata": {},
   "source": [
    "## Test d'un modèle linéaire sur les données breast cancer"
   ]
  },
  {
   "cell_type": "markdown",
   "metadata": {},
   "source": [
    "### Import des données"
   ]
  },
  {
   "cell_type": "code",
   "execution_count": 6,
   "metadata": {
    "collapsed": true
   },
   "outputs": [],
   "source": [
    "def read_libsvm(fname):\n",
    "    with open(fname) as f:\n",
    "        x,y  =list(),list()\n",
    "        for l in f:\n",
    "            line = l.strip().split(\" \")\n",
    "            y.append(int(line[0]))\n",
    "            x.append([float(s.split(\":\")[1]) for s in line[1:]])\n",
    "    return np.array(x),np.array(y)\n",
    "\n",
    "datax, datay = read_libsvm(\"breast\")\n",
    "datay[datay == 2] = -1\n",
    "datay[datay == 4] = 1"
   ]
  },
  {
   "cell_type": "markdown",
   "metadata": {},
   "source": [
    "On teste le bon fonctionnement de notre couche linéaire en utilisant un réseau à deux couches linéaires successives. L'apprentissage est fait en mini-batch."
   ]
  },
  {
   "cell_type": "code",
   "execution_count": 60,
   "metadata": {},
   "outputs": [
    {
     "data": {
      "text/plain": [
       "array([[ 0.01158028,  0.01238525,  0.00903602,  0.00903602,  0.00903602,\n",
       "         0.01238525,  0.00903602,  0.00903602,  0.00903602,  0.00903602],\n",
       "       [ 0.0220713 ,  0.02360554,  0.01722209,  0.01722209,  0.01722209,\n",
       "         0.02360554,  0.01722209,  0.01722209,  0.01722209,  0.01722209],\n",
       "       [-0.00238573, -0.00255157, -0.00186157, -0.00186157, -0.00186157,\n",
       "        -0.00255157, -0.00186157, -0.00186157, -0.00186157, -0.00186157]])"
      ]
     },
     "execution_count": 60,
     "metadata": {},
     "output_type": "execute_result"
    }
   ],
   "source": [
    "t = Tanh()\n",
    "pred = t.forward(linear1.forward(datax))\n",
    "t.backward(x, delta)"
   ]
  },
  {
   "cell_type": "code",
   "execution_count": 58,
   "metadata": {},
   "outputs": [
    {
     "data": {
      "text/plain": [
       "<matplotlib.text.Text at 0x7f2462502240>"
      ]
     },
     "execution_count": 58,
     "metadata": {},
     "output_type": "execute_result"
    },
    {
     "data": {
      "image/png": "[encoded data removed]",
      "text/plain": [
       "<matplotlib.figure.Figure at 0x7f2465ebc208>"
      ]
     },
     "metadata": {},
     "output_type": "display_data"
    },
    {
     "data": {
      "image/png": "[encoded data removed]",
      "text/plain": [
       "<matplotlib.figure.Figure at 0x7f246280c748>"
      ]
     },
     "metadata": {},
     "output_type": "display_data"
    }
   ],
   "source": [
    "\"\"\"\n",
    "Modèle utilisé : x (,10) -> Linear (10, 3) -> Linear (3, 1) -> prediction\n",
    "\"\"\"\n",
    "\n",
    "loss_histo = []\n",
    "acc_histo = []\n",
    "indices = list(range(len(datax)))\n",
    "linear1 = LinearModule(10,3)\n",
    "linear2 = LinearModule(3,1)\n",
    "net = Net([linear1, linear2])\n",
    "mse = MSE()\n",
    "for k in range(1000):\n",
    "    net.zero_gradient()\n",
    "    for j in range(32):\n",
    "        #Shuffle\n",
    "        np.random.shuffle(indices)\n",
    "        i = indices[0]\n",
    "        x = datax[i].reshape((1, -1))\n",
    "        y = datay[i]\n",
    "        #Predictions, phase forward\n",
    "        pred = linear1.forward(x)\n",
    "        predFinale = linear2.forward(pred)\n",
    "        #Calcul du cout \n",
    "        loss = mse.forward(predFinale, y)\n",
    "        #Calcul des gradients\n",
    "        grad_loss = mse.backward(predFinale, y)\n",
    "        delta = linear2.backward(pred, grad_loss)\n",
    "        linear1.backward(x, delta)\n",
    "    linear2.update_params()\n",
    "    linear1.update_params()\n",
    "    fullpred = net.forward(datax)\n",
    "    loss_histo.append(mse.forward(net.forward(datax), datay))\n",
    "    acc_histo.append((np.sign(fullpred) == datay.reshape(fullpred.shape)).mean())\n",
    "\n",
    "plt.plot(loss_histo)\n",
    "plt.xlabel(\"Epoch d'apprentissage\")\n",
    "plt.ylabel(\"Loss\")\n",
    "plt.title(\"Valeur du loss en fonction de l'epoch d'apprentissage\")\n",
    "\n",
    "plt.figure()\n",
    "plt.plot(acc_histo)\n",
    "plt.xlabel(\"Epoch d'apprentissage\")\n",
    "plt.ylabel(\"Accuracy\")\n",
    "plt.title(\"Valeur de l'accuracy en fonction de l'epoch d'apprentissage\")"
   ]
  },
  {
   "cell_type": "markdown",
   "metadata": {},
   "source": [
    "## Réseau non linéaire"
   ]
  },
  {
   "cell_type": "markdown",
   "metadata": {},
   "source": [
    "En faisant suivre une couche linéaire par une fonction d'activation (comme la tangente hyperbolique) on obtient des classifications non linéaires."
   ]
  },
  {
   "cell_type": "markdown",
   "metadata": {},
   "source": [
    "### Données jouet"
   ]
  },
  {
   "cell_type": "markdown",
   "metadata": {},
   "source": [
    "Pour pouvoir visualiser la non linéarité de la classification de notre réseau, on se dote de données jouet de type XOR. Les fonctions ci-dessous proviennent de l'UE ARF et permettent de générer et visualiser ce genre de données."
   ]
  },
  {
   "cell_type": "code",
   "execution_count": 61,
   "metadata": {
    "collapsed": true
   },
   "outputs": [],
   "source": [
    "import numpy as np\n",
    "import matplotlib.pyplot as plt\n",
    "from matplotlib import cm\n",
    "from mpl_toolkits.mplot3d import Axes3D\n",
    "\n",
    "def plot_data(data,labels=None):\n",
    "    \"\"\"\n",
    "    Affiche des donnees 2D\n",
    "    :param data: matrice des donnees 2d\n",
    "    :param labels: vecteur des labels (discrets)\n",
    "    :return:\n",
    "    \"\"\"\n",
    "    cols,marks = [\"red\", \"blue\",\"green\", \"orange\", \"black\", \"cyan\"],[\".\",\"+\",\"*\",\"o\",\"x\",\"^\"]\n",
    "    if labels is None:\n",
    "        plt.scatter(data[:,0],data[:,1],marker=\"x\")\n",
    "        return\n",
    "    for i,l in enumerate(sorted(list(set(labels.flatten())))):\n",
    "        plt.scatter(data[labels==l,0],data[labels==l,1],c=cols[i],marker=marks[i])\n",
    "\n",
    "def plot_frontiere(data,f,step=20):\n",
    "    \"\"\" Trace un graphe de la frontiere de decision de f\n",
    "    :param data: donnees\n",
    "    :param f: fonction de decision\n",
    "    :param step: pas de la grille\n",
    "    :return:\n",
    "    \"\"\"\n",
    "    grid,x,y=make_grid(data=data,step=step)\n",
    "    plt.contourf(x,y,f(grid).reshape(x.shape),colors=('gray','red'),levels=[-1,0,1])\n",
    "\n",
    "def make_grid(data=None,xmin=-5,xmax=5,ymin=-5,ymax=5,step=20):\n",
    "    \"\"\" Cree une grille sous forme de matrice 2d de la liste des points\n",
    "    :param data: pour calcluler les bornes du graphe\n",
    "    :param xmin: si pas data, alors bornes du graphe\n",
    "    :param xmax:\n",
    "    :param ymin:\n",
    "    :param ymax:\n",
    "    :param step: pas de la grille\n",
    "    :return: une matrice 2d contenant les points de la grille\n",
    "    \"\"\"\n",
    "    if data is not None:\n",
    "        xmax, xmin, ymax, ymin = np.max(data[:,0]),  np.min(data[:,0]), np.max(data[:,1]), np.min(data[:,1])\n",
    "    x, y =np.meshgrid(np.arange(xmin,xmax,(xmax-xmin)*1./step), np.arange(ymin,ymax,(ymax-ymin)*1./step))\n",
    "    grid=np.c_[x.ravel(),y.ravel()]\n",
    "    return grid, x, y\n",
    "\n",
    "\n",
    "def gen_arti(centerx=1,centery=1,sigma=0.1,nbex=1000,data_type=0,epsilon=0.02):\n",
    "    \"\"\" Generateur de donnees,\n",
    "        :param centerx: centre des gaussiennes\n",
    "        :param centery:\n",
    "        :param sigma: des gaussiennes\n",
    "        :param nbex: nombre d'exemples\n",
    "        :param data_type: 0: melange 2 gaussiennes, 1: melange 4 gaussiennes, 2:echequier\n",
    "        :param epsilon: bruit dans les donnees\n",
    "        :return: data matrice 2d des donnnes,y etiquette des donnnees\n",
    "    \"\"\"\n",
    "    if data_type==0:\n",
    "         #melange de 2 gaussiennes\n",
    "         xpos=np.random.multivariate_normal([centerx,centerx],np.diag([sigma,sigma]),int(nbex/2))\n",
    "         xneg=np.random.multivariate_normal([-centerx,-centerx],np.diag([sigma,sigma]),int(nbex/2))\n",
    "         data=np.vstack((xpos,xneg))\n",
    "         y=np.hstack((np.ones(nbex/2),-np.ones(nbex/2)))\n",
    "    if data_type==1:\n",
    "        #melange de 4 gaussiennes\n",
    "        xpos=np.vstack((np.random.multivariate_normal([centerx,centerx],np.diag([sigma,sigma]),int(nbex/4)),np.random.multivariate_normal([-centerx,-centerx],np.diag([sigma,sigma]),int(nbex/4))))\n",
    "        xneg=np.vstack((np.random.multivariate_normal([-centerx,centerx],np.diag([sigma,sigma]),int(nbex/4)),np.random.multivariate_normal([centerx,-centerx],np.diag([sigma,sigma]),int(nbex/4))))\n",
    "        data=np.vstack((xpos,xneg))\n",
    "        y=np.hstack((np.ones(nbex/2),-np.ones(int(nbex/2))))\n",
    "\n",
    "    if data_type==2:\n",
    "        #echiquier\n",
    "        data=np.reshape(np.random.uniform(-4,4,2*nbex),(nbex,2))\n",
    "        y=np.ceil(data[:,0])+np.ceil(data[:,1])\n",
    "        y=2*(y % 2)-1\n",
    "    # un peu de bruit\n",
    "    data[:,0]+=np.random.normal(0,epsilon,nbex)\n",
    "    data[:,1]+=np.random.normal(0,epsilon,nbex)\n",
    "    idx = np.random.permutation((range(y.size)))\n",
    "    data=data[idx,:]\n",
    "    y=y[idx]\n",
    "    return data,y\n"
   ]
  },
  {
   "cell_type": "code",
   "execution_count": 67,
   "metadata": {},
   "outputs": [
    {
     "name": "stderr",
     "output_type": "stream",
     "text": [
      "/home/akli/anaconda3/lib/python3.6/site-packages/numpy/core/numeric.py:190: VisibleDeprecationWarning: using a non-integer number instead of an integer will result in an error in the future\n",
      "  a = empty(shape, dtype, order)\n"
     ]
    },
    {
     "data": {
      "image/png": "[encoded data removed]",
      "text/plain": [
       "<matplotlib.figure.Figure at 0x7f2463565f98>"
      ]
     },
     "metadata": {},
     "output_type": "display_data"
    }
   ],
   "source": [
    "datax, datay = gen_arti(centerx=1,centery=1,sigma=0.02,nbex=1000,data_type=1,epsilon=0.02)\n",
    "plot_data(datax, datay)"
   ]
  },
  {
   "cell_type": "markdown",
   "metadata": {},
   "source": [
    "## Construction du modèle"
   ]
  },
  {
   "cell_type": "markdown",
   "metadata": {},
   "source": [
    "On commence par un premier modèle à une couche cachée avec une tangente hyperbolique."
   ]
  },
  {
   "cell_type": "code",
   "execution_count": 88,
   "metadata": {},
   "outputs": [
    {
     "name": "stdout",
     "output_type": "stream",
     "text": [
      "[[ 0.22008729  0.252277   -0.81802077  0.33589132  0.20944945]]\n",
      "[[-0.58899263]\n",
      " [ 0.67505191]\n",
      " [-0.94608998]\n",
      " [-0.33558141]\n",
      " [-0.60276935]]\n",
      "[[-0.56135939 -0.55304194 -0.32143442 -0.52723717 -0.56389138]\n",
      " [ 0.64338111  0.63384837  0.36840006  0.60427319  0.64628305]\n",
      " [-0.90170313 -0.88834293 -0.51631526 -0.84689311 -0.90577022]\n",
      " [-0.31983724 -0.31509833 -0.18313882 -0.30039593 -0.32127985]\n",
      " [-0.57448976 -0.56597776 -0.32895287 -0.53956941 -0.57708098]]\n"
     ]
    }
   ],
   "source": [
    "deltaTan1 = tan1.backward(predLin1, deltaLin2)\n",
    "print(predLin1)\n",
    "print(deltaLin2)\n",
    "print()\n",
    "\n",
    "#linear1.backward(x, deltaTan1)"
   ]
  },
  {
   "cell_type": "code",
   "execution_count": 81,
   "metadata": {},
   "outputs": [
    {
     "ename": "ValueError",
     "evalue": "shapes (5,5) and (1,2) not aligned: 5 (dim 1) != 1 (dim 0)",
     "output_type": "error",
     "traceback": [
      "\u001b[0;31m---------------------------------------------------------------------------\u001b[0m",
      "\u001b[0;31mValueError\u001b[0m                                Traceback (most recent call last)",
      "\u001b[0;32m<ipython-input-81-e46a81c6aa9c>\u001b[0m in \u001b[0;36m<module>\u001b[0;34m()\u001b[0m\n\u001b[1;32m     27\u001b[0m         \u001b[0mdeltaLin2\u001b[0m \u001b[0;34m=\u001b[0m \u001b[0mlinear2\u001b[0m\u001b[0;34m.\u001b[0m\u001b[0mbackward\u001b[0m\u001b[0;34m(\u001b[0m\u001b[0mpredTan1\u001b[0m\u001b[0;34m,\u001b[0m \u001b[0mdeltaTan2\u001b[0m\u001b[0;34m)\u001b[0m\u001b[0;34m\u001b[0m\u001b[0m\n\u001b[1;32m     28\u001b[0m         \u001b[0mdeltaTan1\u001b[0m \u001b[0;34m=\u001b[0m \u001b[0mtan1\u001b[0m\u001b[0;34m.\u001b[0m\u001b[0mbackward\u001b[0m\u001b[0;34m(\u001b[0m\u001b[0mpredLin1\u001b[0m\u001b[0;34m,\u001b[0m \u001b[0mdeltaLin2\u001b[0m\u001b[0;34m)\u001b[0m\u001b[0;34m\u001b[0m\u001b[0m\n\u001b[0;32m---> 29\u001b[0;31m         \u001b[0mlinear1\u001b[0m\u001b[0;34m.\u001b[0m\u001b[0mbackward\u001b[0m\u001b[0;34m(\u001b[0m\u001b[0mx\u001b[0m\u001b[0;34m,\u001b[0m \u001b[0mdeltaTan1\u001b[0m\u001b[0;34m)\u001b[0m\u001b[0;34m\u001b[0m\u001b[0m\n\u001b[0m\u001b[1;32m     30\u001b[0m     \u001b[0mlinear1\u001b[0m\u001b[0;34m.\u001b[0m\u001b[0mupdate_params\u001b[0m\u001b[0;34m(\u001b[0m\u001b[0;34m)\u001b[0m\u001b[0;34m\u001b[0m\u001b[0m\n\u001b[1;32m     31\u001b[0m     \u001b[0mfullpred\u001b[0m \u001b[0;34m=\u001b[0m \u001b[0mnet\u001b[0m\u001b[0;34m.\u001b[0m\u001b[0mforward\u001b[0m\u001b[0;34m(\u001b[0m\u001b[0mdatax\u001b[0m\u001b[0;34m)\u001b[0m\u001b[0;34m\u001b[0m\u001b[0m\n",
      "\u001b[0;32m<ipython-input-54-e02f37c50b55>\u001b[0m in \u001b[0;36mbackward\u001b[0;34m(self, x, delta)\u001b[0m\n\u001b[1;32m     21\u001b[0m         \u001b[0mRetourne\u001b[0m \u001b[0mle\u001b[0m \u001b[0mgradient\u001b[0m \u001b[0men\u001b[0m \u001b[0mfonction\u001b[0m \u001b[0mde\u001b[0m \u001b[0ml\u001b[0m\u001b[0;31m'\u001b[0m\u001b[0mentrée\u001b[0m \u001b[0mx\u001b[0m\u001b[0;34m\u001b[0m\u001b[0m\n\u001b[1;32m     22\u001b[0m         \"\"\"\n\u001b[0;32m---> 23\u001b[0;31m         \u001b[0mself\u001b[0m\u001b[0;34m.\u001b[0m\u001b[0mgradient\u001b[0m \u001b[0;34m+=\u001b[0m \u001b[0mnp\u001b[0m\u001b[0;34m.\u001b[0m\u001b[0mdot\u001b[0m\u001b[0;34m(\u001b[0m\u001b[0mdelta\u001b[0m\u001b[0;34m,\u001b[0m \u001b[0mx\u001b[0m\u001b[0;34m)\u001b[0m\u001b[0;34m.\u001b[0m\u001b[0mT\u001b[0m\u001b[0;34m\u001b[0m\u001b[0m\n\u001b[0m\u001b[1;32m     24\u001b[0m         \u001b[0;31m#print(\"Gradient\")\u001b[0m\u001b[0;34m\u001b[0m\u001b[0;34m\u001b[0m\u001b[0m\n\u001b[1;32m     25\u001b[0m         \u001b[0;31m#print(self.gradient)\u001b[0m\u001b[0;34m\u001b[0m\u001b[0;34m\u001b[0m\u001b[0m\n",
      "\u001b[0;31mValueError\u001b[0m: shapes (5,5) and (1,2) not aligned: 5 (dim 1) != 1 (dim 0)"
     ]
    }
   ],
   "source": [
    "linear1 = LinearModule(2, 5)\n",
    "linear2 = LinearModule(5, 1)\n",
    "tan1 = Tanh()\n",
    "tan2 = Tanh()\n",
    "net = Net([linear1, tan1, linear2, tan2])\n",
    "mse = MSE()\n",
    "\n",
    "for k in range(100):\n",
    "    net.zero_gradient()\n",
    "    for j in range(200):\n",
    "        #Shuffle\n",
    "        np.random.shuffle(indices)\n",
    "        i = indices[0]\n",
    "        x = datax[i].reshape((1, -1))\n",
    "        y = datay[i]\n",
    "        #Predictions, phase forward\n",
    "        predLin1 = linear1.forward(x)\n",
    "        predTan1 = tan1.forward(predLin1)\n",
    "        predLin2 = linear2.forward(predTan1)\n",
    "        predTan2 = tan2.forward(predLin2)\n",
    "        \n",
    "        #Calcul du cout \n",
    "        loss = mse.forward(predTan2, y)\n",
    "        #Calcul des gradients\n",
    "        grad_loss = mse.backward(predTan2, y)\n",
    "        deltaTan2 = tan2.backward(predLin2, grad_loss)\n",
    "        deltaLin2 = linear2.backward(predTan1, deltaTan2)\n",
    "        deltaTan1 = tan1.backward(predLin1, deltaLin2)\n",
    "        linear1.backward(x, deltaTan1)\n",
    "    linear1.update_params()\n",
    "    fullpred = net.forward(datax)\n",
    "    loss_histo.append(mse.forward(net.forward(datax), datay))\n",
    "    acc_histo.append((np.sign(fullpred) == datay.reshape(fullpred.shape)).mean())\n",
    "\n",
    "plt.plot(loss_histo)\n",
    "plt.xlabel(\"Epoch d'apprentissage\")\n",
    "plt.ylabel(\"Loss\")\n",
    "plt.title(\"Valeur du loss en fonction de l'epoch d'apprentissage\")\n",
    "\n",
    "plt.figure()\n",
    "plt.plot(acc_histo)\n",
    "plt.xlabel(\"Epoch d'apprentissage\")\n",
    "plt.ylabel(\"Accuracy\")\n",
    "plt.title(\"Valeur de l'accuracy en fonction de l'epoch d'apprentissage\")\n",
    "\n",
    "plt.figure()\n",
    "make_grid(datax)\n",
    "plot_frontiere(datax,net.predict,step=1000)\n",
    "plot_data(datax,datay)\n"
   ]
  },
  {
   "cell_type": "code",
   "execution_count": 72,
   "metadata": {},
   "outputs": [
    {
     "data": {
      "text/plain": [
       "0.68503678843075322"
      ]
     },
     "execution_count": 72,
     "metadata": {},
     "output_type": "execute_result"
    }
   ],
   "source": []
  }
 ],
 "metadata": {
  "kernelspec": {
   "display_name": "Python 2",
   "language": "python",
   "name": "python2"
  },
  "language_info": {
   "codemirror_mode": {
    "name": "ipython",
    "version": 2
   },
   "file_extension": ".py",
   "mimetype": "text/x-python",
   "name": "python",
   "nbconvert_exporter": "python",
   "pygments_lexer": "ipython2",
   "version": "2.7.14"
  }
 },
 "nbformat": 4,
 "nbformat_minor": 2
}
